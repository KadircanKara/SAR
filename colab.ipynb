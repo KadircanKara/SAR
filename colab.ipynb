{
  "cells": [
    {
      "cell_type": "markdown",
      "source": [
        "### Mount Drive"
      ],
      "metadata": {
        "id": "vrfi4frjk5tt"
      }
    },
    {
      "cell_type": "code",
      "source": [
        "from google.colab import drive\n",
        "drive.mount('/content/drive')"
      ],
      "metadata": {
        "id": "QQiM-c-9Bh4b"
      },
      "execution_count": null,
      "outputs": []
    },
    {
      "cell_type": "markdown",
      "source": [
        "### Install Pymoo"
      ],
      "metadata": {
        "id": "xUaya4ymk_6R"
      }
    },
    {
      "cell_type": "code",
      "execution_count": null,
      "metadata": {
        "id": "iNBom3LDTDdW"
      },
      "outputs": [],
      "source": [
        "pip install pymoo"
      ]
    },
    {
      "cell_type": "markdown",
      "source": [
        "### Clone GitHub Repo"
      ],
      "metadata": {
        "id": "rweuJhD_lC5Z"
      }
    },
    {
      "cell_type": "code",
      "execution_count": null,
      "metadata": {
        "id": "X_0FST1QTDdX"
      },
      "outputs": [],
      "source": [
        "!git clone https://github.com/KadircanKara/SAR.git\n",
        "!mv SAR/* SAR/.* . 2>/dev/null\n",
        "!rm -rf SAR"
      ]
    },
    {
      "cell_type": "markdown",
      "source": [
        "### Import Section"
      ],
      "metadata": {
        "id": "ExWJNqkelGin"
      }
    },
    {
      "cell_type": "code",
      "execution_count": null,
      "metadata": {
        "id": "LNCca__636Hf"
      },
      "outputs": [],
      "source": [
        "from PathInput import *\n",
        "from PathUnitTest import *"
      ]
    },
    {
      "cell_type": "markdown",
      "metadata": {
        "id": "mQ5Gq3Ow36Hg"
      },
      "source": [
        "### Single Visit"
      ]
    },
    {
      "cell_type": "code",
      "execution_count": null,
      "metadata": {
        "id": "L-N-Q6zqTDdX"
      },
      "outputs": [],
      "source": [
        "test = PathUnitTest(scenario=single_visit_setup_scenarios)\n",
        "test(save_results=True, animation=False)"
      ]
    },
    {
      "cell_type": "markdown",
      "metadata": {
        "id": "W_9cuCuk36Hg"
      },
      "source": [
        "### Two Visits"
      ]
    },
    {
      "cell_type": "code",
      "execution_count": null,
      "metadata": {
        "id": "ayIrNIHS36Hg"
      },
      "outputs": [],
      "source": [
        "test = PathUnitTest(scenario=two_visits_setup_scenarios)\n",
        "test(save_results=True, animation=False)"
      ]
    },
    {
      "cell_type": "markdown",
      "metadata": {
        "id": "gpt7kJU936Hg"
      },
      "source": [
        "### Three Visits"
      ]
    },
    {
      "cell_type": "code",
      "execution_count": null,
      "metadata": {
        "id": "zleUmYBv36Hg"
      },
      "outputs": [],
      "source": [
        "test = PathUnitTest(scenario=three_visits_setup_scenarios)\n",
        "test(save_results=True, animation=False)"
      ]
    },
    {
      "cell_type": "markdown",
      "source": [
        "### Four Visits"
      ],
      "metadata": {
        "id": "o1w3ZKpr4tlF"
      }
    },
    {
      "cell_type": "code",
      "source": [
        "test = PathUnitTest(scenario=four_visits_setup_scenarios)\n",
        "test(save_results=True, animation=False)"
      ],
      "metadata": {
        "id": "QTwPe-464vrX"
      },
      "execution_count": null,
      "outputs": []
    }
  ],
  "metadata": {
    "accelerator": "GPU",
    "colab": {
      "gpuType": "A100",
      "machine_shape": "hm",
      "provenance": []
    },
    "kernelspec": {
      "display_name": "Python 3",
      "name": "python3"
    },
    "language_info": {
      "codemirror_mode": {
        "name": "ipython",
        "version": 3
      },
      "file_extension": ".py",
      "mimetype": "text/x-python",
      "name": "python",
      "nbconvert_exporter": "python",
      "pygments_lexer": "ipython3",
      "version": "3.9.6"
    }
  },
  "nbformat": 4,
  "nbformat_minor": 0
}
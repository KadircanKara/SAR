{
  "cells": [
    {
      "cell_type": "markdown",
      "metadata": {
        "id": "vrfi4frjk5tt"
      },
      "source": [
        "### Mount Drive"
      ]
    },
    {
      "cell_type": "code",
      "execution_count": null,
      "metadata": {
        "id": "QQiM-c-9Bh4b"
      },
      "outputs": [],
      "source": [
        "from google.colab import drive\n",
        "drive.mount('/content/drive')"
      ]
    },
    {
      "cell_type": "markdown",
      "metadata": {
        "id": "xUaya4ymk_6R"
      },
      "source": [
        "### Install Pymoo"
      ]
    },
    {
      "cell_type": "code",
      "execution_count": null,
      "metadata": {
        "id": "iNBom3LDTDdW"
      },
      "outputs": [],
      "source": [
        "pip install pymoo"
      ]
    },
    {
      "cell_type": "markdown",
      "metadata": {
        "id": "rweuJhD_lC5Z"
      },
      "source": [
        "### Clone GitHub Repo"
      ]
    },
    {
      "cell_type": "code",
      "execution_count": null,
      "metadata": {
        "id": "X_0FST1QTDdX"
      },
      "outputs": [],
      "source": [
        "!git clone https://github.com/KadircanKara/SAR.git\n",
        "!mv SAR/* SAR/.* . 2>/dev/null\n",
        "!rm -rf SAR"
      ]
    },
    {
      "cell_type": "markdown",
      "metadata": {
        "id": "ExWJNqkelGin"
      },
      "source": [
        "### Import Section"
      ]
    },
    {
      "cell_type": "code",
      "execution_count": 1,
      "metadata": {
        "id": "LNCca__636Hf"
      },
      "outputs": [
        {
          "ename": "ImportError",
          "evalue": "cannot import name 'scenario' from partially initialized module 'main' (most likely due to a circular import) (/Users/kadircan/Desktop/Portfolio/My Projects/SAR/main.py)",
          "output_type": "error",
          "traceback": [
            "\u001b[0;31m---------------------------------------------------------------------------\u001b[0m",
            "\u001b[0;31mImportError\u001b[0m                               Traceback (most recent call last)",
            "Cell \u001b[0;32mIn[1], line 1\u001b[0m\n\u001b[0;32m----> 1\u001b[0m \u001b[38;5;28;01mimport\u001b[39;00m \u001b[38;5;21;01mmain\u001b[39;00m\n",
            "File \u001b[0;32m~/Desktop/Portfolio/My Projects/SAR/main.py:8\u001b[0m\n\u001b[1;32m      6\u001b[0m \u001b[38;5;28;01mfrom\u001b[39;00m \u001b[38;5;21;01mPathCrossover\u001b[39;00m \u001b[38;5;28;01mimport\u001b[39;00m PathCrossover\n\u001b[1;32m      7\u001b[0m \u001b[38;5;28;01mfrom\u001b[39;00m \u001b[38;5;21;01mPathRepair\u001b[39;00m \u001b[38;5;28;01mimport\u001b[39;00m PathRepair\n\u001b[0;32m----> 8\u001b[0m \u001b[38;5;28;01mfrom\u001b[39;00m \u001b[38;5;21;01mPathUnitTest\u001b[39;00m \u001b[38;5;28;01mimport\u001b[39;00m \u001b[38;5;241m*\u001b[39m\n\u001b[1;32m     10\u001b[0m \u001b[38;5;28;01mimport\u001b[39;00m \u001b[38;5;21;01mos\u001b[39;00m\n\u001b[1;32m     12\u001b[0m pop_size \u001b[38;5;241m=\u001b[39m \u001b[38;5;241m100\u001b[39m\n",
            "File \u001b[0;32m~/Desktop/Portfolio/My Projects/SAR/PathUnitTest.py:4\u001b[0m\n\u001b[1;32m      2\u001b[0m \u001b[38;5;28;01mfrom\u001b[39;00m \u001b[38;5;21;01mtyping\u001b[39;00m \u001b[38;5;28;01mimport\u001b[39;00m Any\n\u001b[1;32m      3\u001b[0m \u001b[38;5;28;01mimport\u001b[39;00m \u001b[38;5;21;01mpickle\u001b[39;00m\n\u001b[0;32m----> 4\u001b[0m \u001b[38;5;28;01mfrom\u001b[39;00m \u001b[38;5;21;01mPathAlgorithm\u001b[39;00m \u001b[38;5;28;01mimport\u001b[39;00m \u001b[38;5;241m*\u001b[39m\n\u001b[1;32m      5\u001b[0m \u001b[38;5;28;01mfrom\u001b[39;00m \u001b[38;5;21;01mPathOutput\u001b[39;00m \u001b[38;5;28;01mimport\u001b[39;00m \u001b[38;5;241m*\u001b[39m\n\u001b[1;32m      6\u001b[0m \u001b[38;5;28;01mfrom\u001b[39;00m \u001b[38;5;21;01mpymoo\u001b[39;00m\u001b[38;5;21;01m.\u001b[39;00m\u001b[38;5;21;01moperators\u001b[39;00m\u001b[38;5;21;01m.\u001b[39;00m\u001b[38;5;21;01mcrossover\u001b[39;00m\u001b[38;5;21;01m.\u001b[39;00m\u001b[38;5;21;01mnox\u001b[39;00m \u001b[38;5;28;01mimport\u001b[39;00m NoCrossover\n",
            "File \u001b[0;32m~/Desktop/Portfolio/My Projects/SAR/PathAlgorithm.py:35\u001b[0m\n\u001b[1;32m     32\u001b[0m \u001b[38;5;28;01mfrom\u001b[39;00m \u001b[38;5;21;01mPathOptimizationModel\u001b[39;00m \u001b[38;5;28;01mimport\u001b[39;00m \u001b[38;5;241m*\u001b[39m\n\u001b[1;32m     33\u001b[0m \u001b[38;5;28;01mfrom\u001b[39;00m \u001b[38;5;21;01mPathInput\u001b[39;00m \u001b[38;5;28;01mimport\u001b[39;00m \u001b[38;5;241m*\u001b[39m\n\u001b[0;32m---> 35\u001b[0m \u001b[38;5;28;01mfrom\u001b[39;00m \u001b[38;5;21;01mmain\u001b[39;00m \u001b[38;5;28;01mimport\u001b[39;00m scenario, pop_size, path_eliminate_duplicates, path_sampling, path_mutation, path_crossover, path_repair\n\u001b[1;32m     37\u001b[0m \u001b[38;5;66;03m# path_eliminate_duplicates = NoDuplicateElimination()\u001b[39;00m\n\u001b[1;32m     38\u001b[0m \n\u001b[1;32m     39\u001b[0m \u001b[38;5;66;03m# pop_size = pop_size\u001b[39;00m\n\u001b[0;32m   (...)\u001b[0m\n\u001b[1;32m     51\u001b[0m \u001b[38;5;66;03m#     # n_max_evals=100000\u001b[39;00m\n\u001b[1;32m     52\u001b[0m \u001b[38;5;66;03m# )\u001b[39;00m\n\u001b[1;32m     55\u001b[0m algorithm_dict \u001b[38;5;241m=\u001b[39m {\n\u001b[1;32m     56\u001b[0m \n\u001b[1;32m     57\u001b[0m     \u001b[38;5;124m'\u001b[39m\u001b[38;5;124mPSO\u001b[39m\u001b[38;5;124m'\u001b[39m: PSO(\n\u001b[0;32m   (...)\u001b[0m\n\u001b[1;32m    137\u001b[0m \n\u001b[1;32m    138\u001b[0m }\n",
            "\u001b[0;31mImportError\u001b[0m: cannot import name 'scenario' from partially initialized module 'main' (most likely due to a circular import) (/Users/kadircan/Desktop/Portfolio/My Projects/SAR/main.py)"
          ]
        }
      ],
      "source": [
        "import main"
      ]
    },
    {
      "cell_type": "markdown",
      "metadata": {
        "id": "mQ5Gq3Ow36Hg"
      },
      "source": [
        "### Single Visit"
      ]
    },
    {
      "cell_type": "code",
      "execution_count": null,
      "metadata": {
        "id": "L-N-Q6zqTDdX"
      },
      "outputs": [],
      "source": [
        "test = PathUnitTest(scenario=single_visit_setup_scenarios)\n",
        "test(save_results=True, animation=False)"
      ]
    },
    {
      "cell_type": "markdown",
      "metadata": {
        "id": "W_9cuCuk36Hg"
      },
      "source": [
        "### Two Visits"
      ]
    },
    {
      "cell_type": "code",
      "execution_count": null,
      "metadata": {
        "id": "ayIrNIHS36Hg"
      },
      "outputs": [],
      "source": [
        "test = PathUnitTest(scenario=two_visits_setup_scenarios)\n",
        "test(save_results=True, animation=False)"
      ]
    },
    {
      "cell_type": "markdown",
      "metadata": {
        "id": "gpt7kJU936Hg"
      },
      "source": [
        "### Three Visits"
      ]
    },
    {
      "cell_type": "code",
      "execution_count": null,
      "metadata": {
        "id": "zleUmYBv36Hg"
      },
      "outputs": [],
      "source": [
        "test = PathUnitTest(scenario=three_visits_setup_scenarios)\n",
        "test(save_results=True, animation=False)"
      ]
    },
    {
      "cell_type": "markdown",
      "metadata": {
        "id": "o1w3ZKpr4tlF"
      },
      "source": [
        "### Four Visits"
      ]
    },
    {
      "cell_type": "code",
      "execution_count": null,
      "metadata": {
        "id": "QTwPe-464vrX"
      },
      "outputs": [],
      "source": [
        "test = PathUnitTest(scenario=four_visits_setup_scenarios)\n",
        "test(save_results=True, animation=False)"
      ]
    }
  ],
  "metadata": {
    "accelerator": "GPU",
    "colab": {
      "gpuType": "A100",
      "machine_shape": "hm",
      "provenance": []
    },
    "kernelspec": {
      "display_name": "Python 3",
      "name": "python3"
    },
    "language_info": {
      "codemirror_mode": {
        "name": "ipython",
        "version": 3
      },
      "file_extension": ".py",
      "mimetype": "text/x-python",
      "name": "python",
      "nbconvert_exporter": "python",
      "pygments_lexer": "ipython3",
      "version": "3.9.6"
    }
  },
  "nbformat": 4,
  "nbformat_minor": 0
}
